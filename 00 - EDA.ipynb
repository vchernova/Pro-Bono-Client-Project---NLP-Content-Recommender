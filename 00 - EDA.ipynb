{
 "cells": [
  {
   "cell_type": "markdown",
   "metadata": {},
   "source": [
    "### Notes about the project\n",
    "At the beginning of the project we did some EDA on the data available. We agreed that the Data was sparse and required extensive cleaning and filling in the gaps, which took most of the time working on the project.\n",
    "\n",
    "Here is an abbreviated noteboo showing some parts of the EDA. Unfortunately the data itself is not available but you can get an idea of the process from the steps below.\n",
    "\n",
    "First I visuzlied the key findings about the dataset (what's available, what's missing etc.), then after I talked to the team I did some graphs on the items that they were most interested about and suggested a few ways of how we could get additional data and compensate for missing data."
   ]
  },
  {
   "cell_type": "code",
   "execution_count": 113,
   "metadata": {},
   "outputs": [],
   "source": [
    "import pandas as pd\n",
    "import numpy as np\n",
    "import matplotlib.pyplot as plt\n",
    "%matplotlib inline"
   ]
  },
  {
   "cell_type": "code",
   "execution_count": 287,
   "metadata": {},
   "outputs": [],
   "source": [
    "#NOTE That the data isn't available as it is propriatary for the startup I worked with\n",
    "#loading data\n",
    "df = pd.read_csv(\"./XXX DATA.csv\")"
   ]
  },
  {
   "cell_type": "code",
   "execution_count": 288,
   "metadata": {
    "scrolled": true
   },
   "outputs": [
    {
     "data": {
      "text/plain": [
       "(15512, 25)"
      ]
     },
     "execution_count": 288,
     "metadata": {},
     "output_type": "execute_result"
    }
   ],
   "source": [
    "df.shape"
   ]
  },
  {
   "cell_type": "markdown",
   "metadata": {},
   "source": [
    "### Description of the data\n",
    "\n",
    "Data was merged from several tables on co_id field and very sparse. Different sets available for different observations. For example certain features were only available for less than 5% of the dataset. While other features were available for virtually all observations. "
   ]
  },
  {
   "cell_type": "code",
   "execution_count": 289,
   "metadata": {
    "scrolled": true
   },
   "outputs": [
    {
     "data": {
      "text/html": [
       "<div>\n",
       "<style scoped>\n",
       "    .dataframe tbody tr th:only-of-type {\n",
       "        vertical-align: middle;\n",
       "    }\n",
       "\n",
       "    .dataframe tbody tr th {\n",
       "        vertical-align: top;\n",
       "    }\n",
       "\n",
       "    .dataframe thead th {\n",
       "        text-align: right;\n",
       "    }\n",
       "</style>\n",
       "<table border=\"1\" class=\"dataframe\">\n",
       "  <thead>\n",
       "    <tr style=\"text-align: right;\">\n",
       "      <th></th>\n",
       "      <th>columns</th>\n",
       "      <th>missing_records</th>\n",
       "      <th>all_records</th>\n",
       "      <th>%missing_records</th>\n",
       "      <th>number_unique_records</th>\n",
       "    </tr>\n",
       "  </thead>\n",
       "  <tbody>\n",
       "    <tr>\n",
       "      <th>12</th>\n",
       "      <td>stage</td>\n",
       "      <td>14831</td>\n",
       "      <td>15512</td>\n",
       "      <td>0.956099</td>\n",
       "      <td>5</td>\n",
       "    </tr>\n",
       "    <tr>\n",
       "      <th>16</th>\n",
       "      <td>average_rating</td>\n",
       "      <td>13773</td>\n",
       "      <td>15512</td>\n",
       "      <td>0.887893</td>\n",
       "      <td>76</td>\n",
       "    </tr>\n",
       "    <tr>\n",
       "      <th>20</th>\n",
       "      <td>concept_pitch</td>\n",
       "      <td>12132</td>\n",
       "      <td>15512</td>\n",
       "      <td>0.782104</td>\n",
       "      <td>3323</td>\n",
       "    </tr>\n",
       "    <tr>\n",
       "      <th>19</th>\n",
       "      <td>short_description</td>\n",
       "      <td>10871</td>\n",
       "      <td>15512</td>\n",
       "      <td>0.700812</td>\n",
       "      <td>4513</td>\n",
       "    </tr>\n",
       "    <tr>\n",
       "      <th>10</th>\n",
       "      <td>product_type</td>\n",
       "      <td>10554</td>\n",
       "      <td>15512</td>\n",
       "      <td>0.680376</td>\n",
       "      <td>208</td>\n",
       "    </tr>\n",
       "    <tr>\n",
       "      <th>11</th>\n",
       "      <td>sales_model</td>\n",
       "      <td>10409</td>\n",
       "      <td>15512</td>\n",
       "      <td>0.671029</td>\n",
       "      <td>1048</td>\n",
       "    </tr>\n",
       "    <tr>\n",
       "      <th>9</th>\n",
       "      <td>customer_type</td>\n",
       "      <td>10406</td>\n",
       "      <td>15512</td>\n",
       "      <td>0.670835</td>\n",
       "      <td>1923</td>\n",
       "    </tr>\n",
       "    <tr>\n",
       "      <th>22</th>\n",
       "      <td>app_submit_date</td>\n",
       "      <td>10319</td>\n",
       "      <td>15512</td>\n",
       "      <td>0.665227</td>\n",
       "      <td>4967</td>\n",
       "    </tr>\n",
       "    <tr>\n",
       "      <th>21</th>\n",
       "      <td>custom_attributes</td>\n",
       "      <td>10319</td>\n",
       "      <td>15512</td>\n",
       "      <td>0.665227</td>\n",
       "      <td>1515</td>\n",
       "    </tr>\n",
       "    <tr>\n",
       "      <th>15</th>\n",
       "      <td>total_raised</td>\n",
       "      <td>9416</td>\n",
       "      <td>15512</td>\n",
       "      <td>0.607014</td>\n",
       "      <td>618</td>\n",
       "    </tr>\n",
       "    <tr>\n",
       "      <th>5</th>\n",
       "      <td>founded</td>\n",
       "      <td>9094</td>\n",
       "      <td>15512</td>\n",
       "      <td>0.586256</td>\n",
       "      <td>1412</td>\n",
       "    </tr>\n",
       "    <tr>\n",
       "      <th>18</th>\n",
       "      <td>description</td>\n",
       "      <td>9012</td>\n",
       "      <td>15512</td>\n",
       "      <td>0.580970</td>\n",
       "      <td>6099</td>\n",
       "    </tr>\n",
       "    <tr>\n",
       "      <th>3</th>\n",
       "      <td>country</td>\n",
       "      <td>7786</td>\n",
       "      <td>15512</td>\n",
       "      <td>0.501934</td>\n",
       "      <td>113</td>\n",
       "    </tr>\n",
       "    <tr>\n",
       "      <th>2</th>\n",
       "      <td>city</td>\n",
       "      <td>7217</td>\n",
       "      <td>15512</td>\n",
       "      <td>0.465253</td>\n",
       "      <td>1238</td>\n",
       "    </tr>\n",
       "    <tr>\n",
       "      <th>14</th>\n",
       "      <td>email</td>\n",
       "      <td>6527</td>\n",
       "      <td>15512</td>\n",
       "      <td>0.420771</td>\n",
       "      <td>8630</td>\n",
       "    </tr>\n",
       "    <tr>\n",
       "      <th>13</th>\n",
       "      <td>website</td>\n",
       "      <td>6492</td>\n",
       "      <td>15512</td>\n",
       "      <td>0.418515</td>\n",
       "      <td>8438</td>\n",
       "    </tr>\n",
       "    <tr>\n",
       "      <th>8</th>\n",
       "      <td>industry</td>\n",
       "      <td>6401</td>\n",
       "      <td>15512</td>\n",
       "      <td>0.412648</td>\n",
       "      <td>2754</td>\n",
       "    </tr>\n",
       "    <tr>\n",
       "      <th>17</th>\n",
       "      <td>users</td>\n",
       "      <td>373</td>\n",
       "      <td>15512</td>\n",
       "      <td>0.024046</td>\n",
       "      <td>48</td>\n",
       "    </tr>\n",
       "    <tr>\n",
       "      <th>1</th>\n",
       "      <td>co_name</td>\n",
       "      <td>11</td>\n",
       "      <td>15512</td>\n",
       "      <td>0.000709</td>\n",
       "      <td>14657</td>\n",
       "    </tr>\n",
       "    <tr>\n",
       "      <th>23</th>\n",
       "      <td>first_community</td>\n",
       "      <td>0</td>\n",
       "      <td>15512</td>\n",
       "      <td>0.000000</td>\n",
       "      <td>145</td>\n",
       "    </tr>\n",
       "    <tr>\n",
       "      <th>0</th>\n",
       "      <td>co_slug</td>\n",
       "      <td>0</td>\n",
       "      <td>15512</td>\n",
       "      <td>0.000000</td>\n",
       "      <td>15138</td>\n",
       "    </tr>\n",
       "    <tr>\n",
       "      <th>7</th>\n",
       "      <td>updated</td>\n",
       "      <td>0</td>\n",
       "      <td>15512</td>\n",
       "      <td>0.000000</td>\n",
       "      <td>676</td>\n",
       "    </tr>\n",
       "    <tr>\n",
       "      <th>6</th>\n",
       "      <td>created</td>\n",
       "      <td>0</td>\n",
       "      <td>15512</td>\n",
       "      <td>0.000000</td>\n",
       "      <td>993</td>\n",
       "    </tr>\n",
       "    <tr>\n",
       "      <th>4</th>\n",
       "      <td>co_id</td>\n",
       "      <td>0</td>\n",
       "      <td>15512</td>\n",
       "      <td>0.000000</td>\n",
       "      <td>15138</td>\n",
       "    </tr>\n",
       "    <tr>\n",
       "      <th>24</th>\n",
       "      <td>source</td>\n",
       "      <td>0</td>\n",
       "      <td>15512</td>\n",
       "      <td>0.000000</td>\n",
       "      <td>2</td>\n",
       "    </tr>\n",
       "  </tbody>\n",
       "</table>\n",
       "</div>"
      ],
      "text/plain": [
       "              columns  missing_records  all_records  %missing_records  \\\n",
       "12              stage            14831        15512          0.956099   \n",
       "16     average_rating            13773        15512          0.887893   \n",
       "20      concept_pitch            12132        15512          0.782104   \n",
       "19  short_description            10871        15512          0.700812   \n",
       "10       product_type            10554        15512          0.680376   \n",
       "11        sales_model            10409        15512          0.671029   \n",
       "9       customer_type            10406        15512          0.670835   \n",
       "22    app_submit_date            10319        15512          0.665227   \n",
       "21  custom_attributes            10319        15512          0.665227   \n",
       "15       total_raised             9416        15512          0.607014   \n",
       "5             founded             9094        15512          0.586256   \n",
       "18        description             9012        15512          0.580970   \n",
       "3             country             7786        15512          0.501934   \n",
       "2                city             7217        15512          0.465253   \n",
       "14              email             6527        15512          0.420771   \n",
       "13            website             6492        15512          0.418515   \n",
       "8            industry             6401        15512          0.412648   \n",
       "17              users              373        15512          0.024046   \n",
       "1             co_name               11        15512          0.000709   \n",
       "23    first_community                0        15512          0.000000   \n",
       "0             co_slug                0        15512          0.000000   \n",
       "7             updated                0        15512          0.000000   \n",
       "6             created                0        15512          0.000000   \n",
       "4               co_id                0        15512          0.000000   \n",
       "24             source                0        15512          0.000000   \n",
       "\n",
       "    number_unique_records  \n",
       "12                      5  \n",
       "16                     76  \n",
       "20                   3323  \n",
       "19                   4513  \n",
       "10                    208  \n",
       "11                   1048  \n",
       "9                    1923  \n",
       "22                   4967  \n",
       "21                   1515  \n",
       "15                    618  \n",
       "5                    1412  \n",
       "18                   6099  \n",
       "3                     113  \n",
       "2                    1238  \n",
       "14                   8630  \n",
       "13                   8438  \n",
       "8                    2754  \n",
       "17                     48  \n",
       "1                   14657  \n",
       "23                    145  \n",
       "0                   15138  \n",
       "7                     676  \n",
       "6                     993  \n",
       "4                   15138  \n",
       "24                      2  "
      ]
     },
     "execution_count": 289,
     "metadata": {},
     "output_type": "execute_result"
    }
   ],
   "source": [
    "#check how many missing values in each column in the df, put in df_view so it's easier to see\n",
    "#can't do df.decribe bc it only works on integers and floats and most of these are strings\n",
    "\n",
    "df_view = pd.DataFrame(columns=['columns'])\n",
    "df_view['columns'] = df.columns\n",
    "df_view['missing_records'] = [df[i].isnull().sum() for i in df.columns]\n",
    "df_view['all_records'] = [len(df[i]) for i in df.columns]\n",
    "df_view['%missing_records'] = df_view[\"missing_records\"] / df_view['all_records']\n",
    "df_view['number_unique_records'] = [df[i].nunique() for i in df.columns]\n",
    "\n",
    "df_view.sort_values('missing_records', ascending = False)"
   ]
  },
  {
   "cell_type": "markdown",
   "metadata": {},
   "source": [
    "### Checking how long the clients have been using the platform\n",
    "First calculating the length from signing up until the current date (validated with the startup that that's the approach they would like to use here). Then plotting it for vizualization."
   ]
  },
  {
   "cell_type": "code",
   "execution_count": 314,
   "metadata": {},
   "outputs": [],
   "source": [
    "from datetime import date\n",
    "df['created'] = pd.to_datetime(df['created'])\n",
    "df['updated'] = pd.to_datetime(df['updated'])\n",
    "df['time_using_platform'] = date.today() - df['updated']\n",
    "df['updated'] = pd.to_datetime(df['time_using_platform'])"
   ]
  },
  {
   "cell_type": "code",
   "execution_count": 315,
   "metadata": {},
   "outputs": [
    {
     "data": {
      "text/plain": [
       "253 days    1443\n",
       "803 days    1025\n",
       "637 days     373\n",
       "337 days     246\n",
       "294 days     206\n",
       "Name: time_using_platform, dtype: int64"
      ]
     },
     "execution_count": 315,
     "metadata": {},
     "output_type": "execute_result"
    }
   ],
   "source": [
    "df.time_using_platform.value_counts()[:5]\n",
    "#what happened 253 (Oct 31, 2017) and 803 (Apr 29, 2016) days ago? Spikes in account creation."
   ]
  },
  {
   "cell_type": "code",
   "execution_count": 365,
   "metadata": {},
   "outputs": [
    {
     "data": {
      "image/png": "[encoded data removed]",
      "text/plain": [
       "<Figure size 1080x360 with 1 Axes>"
      ]
     },
     "metadata": {},
     "output_type": "display_data"
    }
   ],
   "source": [
    "plt.figure(figsize=(15,5))\n",
    "\n",
    "bins = np.arange(0,850,10)\n",
    "plt.hist([np.clip(df.time_using_platform.astype('timedelta64[D]'), bins[0], bins[-1])],\n",
    "                                density=True,\n",
    "                                bins=bins, facecolor='b');\n",
    "\n",
    "plt.title('#Days that the Companies spend on the platform')\n",
    "plt.xlabel('# Days')\n",
    "plt.ylabel('Frequency')\n",
    "\n",
    "plt.xticks (np.arange(0, 850, step=25))\n",
    "#plt.yticks (np.arange(0, 2200, step=100))\n",
    "#plt.axis([0, 900, 0, 0.05])\n",
    "plt.grid(True, alpha = 0.25 )\n",
    "\n",
    "plt.show()"
   ]
  },
  {
   "cell_type": "markdown",
   "metadata": {},
   "source": [
    "### Plotting for the NLP features\n",
    "Since I will be using text for my recommender engine later, I am not looking at the available text fields to then decide witht the client how much text do we need at a minimum for them to make a decision."
   ]
  },
  {
   "cell_type": "code",
   "execution_count": 297,
   "metadata": {},
   "outputs": [],
   "source": [
    "# descriptions - since there are thee columns with descriptions, I am combining it into one, \n",
    "# so I can decide whether a company provided a description at all\n",
    "df['text_description'] = df[\"description\"].astype(str) + \"\" + df['short_description'].astype(str) + \"\" + df['concept_pitch'].astype(str)\n",
    "\n",
    "\n",
    "# adding length of description column for easier plottings\n",
    "length = []\n",
    "for i in df.index:\n",
    "    length.append(len(df.text_description[i].split()) - 1) #-1 to get rid of NaNs\n",
    "    \n",
    "df['text_length'] = length"
   ]
  },
  {
   "cell_type": "code",
   "execution_count": 298,
   "metadata": {
    "scrolled": true
   },
   "outputs": [
    {
     "data": {
      "text/plain": [
       "count    15512.000000\n",
       "mean        27.164260\n",
       "std         41.036809\n",
       "min          0.000000\n",
       "25%          0.000000\n",
       "50%         14.000000\n",
       "75%         38.000000\n",
       "max       1381.000000\n",
       "Name: text_length, dtype: float64"
      ]
     },
     "execution_count": 298,
     "metadata": {},
     "output_type": "execute_result"
    }
   ],
   "source": [
    "df['text_length'].describe()"
   ]
  },
  {
   "cell_type": "code",
   "execution_count": 299,
   "metadata": {
    "scrolled": true
   },
   "outputs": [
    {
     "name": "stdout",
     "output_type": "stream",
     "text": [
      "0.37216348633316143 % of companies did not provide company description.\n"
     ]
    }
   ],
   "source": [
    "#looking at companies that did not provide any description\n",
    "print(\"{} % of companies did not provide company description.\".format(sum(df.text_length == 0)/ len(df.text_length))) "
   ]
  },
  {
   "cell_type": "code",
   "execution_count": 300,
   "metadata": {
    "scrolled": true
   },
   "outputs": [
    {
     "data": {
      "text/plain": [
       "0     5773\n",
       "36     216\n",
       "38     208\n",
       "37     208\n",
       "35     201\n",
       "Name: text_length, dtype: int64"
      ]
     },
     "execution_count": 300,
     "metadata": {},
     "output_type": "execute_result"
    }
   ],
   "source": [
    "# here are the top ten description lengths\n",
    "df.text_length.value_counts()[:5]"
   ]
  },
  {
   "cell_type": "markdown",
   "metadata": {},
   "source": [
    "Turns out someone submitted a copy of their homepage html instead of description, but other than that all entries were less than 216 words long."
   ]
  },
  {
   "cell_type": "code",
   "execution_count": 353,
   "metadata": {
    "scrolled": true
   },
   "outputs": [
    {
     "data": {
      "image/png": "[encoded data removed]",
      "text/plain": [
       "<Figure size 720x360 with 1 Axes>"
      ]
     },
     "metadata": {},
     "output_type": "display_data"
    }
   ],
   "source": [
    "plt.figure(figsize=(10,5))\n",
    "bins = np.arange(0,100,5)\n",
    "plt.hist([np.clip(df.text_length, bins[0], bins[-1])],\n",
    "                                density=True,\n",
    "                                bins=bins, color=['#3782CC'])\n",
    "plt.title('Distribution of Company Description Length of Text Distribution')\n",
    "plt.xlabel('Text Length / # Words')\n",
    "plt.ylabel('% Companies that have that length of description')\n",
    "\n",
    "plt.show()"
   ]
  },
  {
   "cell_type": "markdown",
   "metadata": {},
   "source": [
    "### Looking at correlations between some features\n",
    "Cehcking whether the length of company description correlates with the length of the use of the platform. More interesting correlations were found with other features but not including here for proprietary info reasons."
   ]
  },
  {
   "cell_type": "code",
   "execution_count": 198,
   "metadata": {
    "scrolled": true
   },
   "outputs": [
    {
     "name": "stderr",
     "output_type": "stream",
     "text": [
      "/Users/veraburfield/anaconda3/envs/dsi/lib/python3.6/site-packages/ipykernel/__main__.py:2: SettingWithCopyWarning: \n",
      "A value is trying to be set on a copy of a slice from a DataFrame.\n",
      "Try using .loc[row_indexer,col_indexer] = value instead\n",
      "\n",
      "See the caveats in the documentation: http://pandas.pydata.org/pandas-docs/stable/indexing.html#indexing-view-versus-copy\n",
      "  from ipykernel import kernelapp as app\n"
     ]
    }
   ],
   "source": [
    "df_tu = df[['time_using_platform', 'text_length']]\n",
    "df_tu['time_using_platform'] = df_tu['time_using_platform'].astype('timedelta64[D]')"
   ]
  },
  {
   "cell_type": "code",
   "execution_count": 204,
   "metadata": {},
   "outputs": [
    {
     "data": {
      "text/plain": [
       "<seaborn.axisgrid.PairGrid at 0x11ca99a90>"
      ]
     },
     "execution_count": 204,
     "metadata": {},
     "output_type": "execute_result"
    },
    {
     "data": {
      "image/png": "[encoded data removed]",
      "text/plain": [
       "<Figure size 360x360 with 6 Axes>"
      ]
     },
     "metadata": {},
     "output_type": "display_data"
    }
   ],
   "source": [
    "import seaborn as sns\n",
    "sns.pairplot(df_tu)"
   ]
  },
  {
   "cell_type": "code",
   "execution_count": 220,
   "metadata": {
    "scrolled": true
   },
   "outputs": [
    {
     "name": "stderr",
     "output_type": "stream",
     "text": [
      "/Users/veraburfield/anaconda3/envs/dsi/lib/python3.6/site-packages/pandas/core/generic.py:3643: SettingWithCopyWarning: \n",
      "A value is trying to be set on a copy of a slice from a DataFrame.\n",
      "Try using .loc[row_indexer,col_indexer] = value instead\n",
      "\n",
      "See the caveats in the documentation: http://pandas.pydata.org/pandas-docs/stable/indexing.html#indexing-view-versus-copy\n",
      "  self[name] = value\n"
     ]
    },
    {
     "data": {
      "text/html": [
       "<div>\n",
       "<style scoped>\n",
       "    .dataframe tbody tr th:only-of-type {\n",
       "        vertical-align: middle;\n",
       "    }\n",
       "\n",
       "    .dataframe tbody tr th {\n",
       "        vertical-align: top;\n",
       "    }\n",
       "\n",
       "    .dataframe thead th {\n",
       "        text-align: right;\n",
       "    }\n",
       "</style>\n",
       "<table border=\"1\" class=\"dataframe\">\n",
       "  <thead>\n",
       "    <tr style=\"text-align: right;\">\n",
       "      <th>average_rating</th>\n",
       "      <th>1.0</th>\n",
       "      <th>2.0</th>\n",
       "      <th>3.0</th>\n",
       "      <th>4.0</th>\n",
       "      <th>5.0</th>\n",
       "      <th>6.0</th>\n",
       "      <th>7.0</th>\n",
       "      <th>8.0</th>\n",
       "      <th>9.0</th>\n",
       "      <th>10.0</th>\n",
       "    </tr>\n",
       "    <tr>\n",
       "      <th>stage</th>\n",
       "      <th></th>\n",
       "      <th></th>\n",
       "      <th></th>\n",
       "      <th></th>\n",
       "      <th></th>\n",
       "      <th></th>\n",
       "      <th></th>\n",
       "      <th></th>\n",
       "      <th></th>\n",
       "      <th></th>\n",
       "    </tr>\n",
       "  </thead>\n",
       "  <tbody>\n",
       "    <tr>\n",
       "      <th>discovery</th>\n",
       "      <td>1</td>\n",
       "      <td>0</td>\n",
       "      <td>0</td>\n",
       "      <td>1</td>\n",
       "      <td>2</td>\n",
       "      <td>6</td>\n",
       "      <td>10</td>\n",
       "      <td>14</td>\n",
       "      <td>2</td>\n",
       "      <td>1</td>\n",
       "    </tr>\n",
       "    <tr>\n",
       "      <th>exploration-ideation</th>\n",
       "      <td>0</td>\n",
       "      <td>1</td>\n",
       "      <td>1</td>\n",
       "      <td>0</td>\n",
       "      <td>2</td>\n",
       "      <td>3</td>\n",
       "      <td>4</td>\n",
       "      <td>2</td>\n",
       "      <td>0</td>\n",
       "      <td>0</td>\n",
       "    </tr>\n",
       "    <tr>\n",
       "      <th>scale</th>\n",
       "      <td>0</td>\n",
       "      <td>0</td>\n",
       "      <td>0</td>\n",
       "      <td>0</td>\n",
       "      <td>4</td>\n",
       "      <td>2</td>\n",
       "      <td>3</td>\n",
       "      <td>10</td>\n",
       "      <td>1</td>\n",
       "      <td>3</td>\n",
       "    </tr>\n",
       "    <tr>\n",
       "      <th>validate-problem-solution</th>\n",
       "      <td>0</td>\n",
       "      <td>0</td>\n",
       "      <td>0</td>\n",
       "      <td>0</td>\n",
       "      <td>4</td>\n",
       "      <td>12</td>\n",
       "      <td>15</td>\n",
       "      <td>10</td>\n",
       "      <td>8</td>\n",
       "      <td>3</td>\n",
       "    </tr>\n",
       "  </tbody>\n",
       "</table>\n",
       "</div>"
      ],
      "text/plain": [
       "average_rating             1.0   2.0   3.0   4.0   5.0   6.0   7.0   8.0   \\\n",
       "stage                                                                       \n",
       "discovery                     1     0     0     1     2     6    10    14   \n",
       "exploration-ideation          0     1     1     0     2     3     4     2   \n",
       "scale                         0     0     0     0     4     2     3    10   \n",
       "validate-problem-solution     0     0     0     0     4    12    15    10   \n",
       "\n",
       "average_rating             9.0   10.0  \n",
       "stage                                  \n",
       "discovery                     2     1  \n",
       "exploration-ideation          0     0  \n",
       "scale                         1     3  \n",
       "validate-problem-solution     8     3  "
      ]
     },
     "execution_count": 220,
     "metadata": {},
     "output_type": "execute_result"
    }
   ],
   "source": [
    "df_tu.length_using_platform = round(df_round.length_using_platform)\n",
    "pd.crosstab(df_tu.text_length, df_round.length_using_platform)"
   ]
  },
  {
   "cell_type": "code",
   "execution_count": null,
   "metadata": {},
   "outputs": [],
   "source": [
    "#so this could be cool to know. right now most \"XXX\" info is missing and only a few hundred crosstab hits"
   ]
  }
 ],
 "metadata": {
  "kernelspec": {
   "display_name": "Python [conda env:dsi]",
   "language": "python",
   "name": "conda-env-dsi-py"
  },
  "language_info": {
   "codemirror_mode": {
    "name": "ipython",
    "version": 3
   },
   "file_extension": ".py",
   "mimetype": "text/x-python",
   "name": "python",
   "nbconvert_exporter": "python",
   "pygments_lexer": "ipython3",
   "version": "3.6.5"
  }
 },
 "nbformat": 4,
 "nbformat_minor": 2
}
