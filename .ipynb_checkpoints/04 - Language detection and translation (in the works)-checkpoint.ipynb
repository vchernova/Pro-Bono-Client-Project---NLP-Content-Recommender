{
 "cells": [
  {
   "cell_type": "code",
   "execution_count": null,
   "metadata": {},
   "outputs": [],
   "source": [
    "#!pip install langdetect\n",
    "#! pip install TextBlob"
   ]
  },
  {
   "cell_type": "code",
   "execution_count": null,
   "metadata": {},
   "outputs": [],
   "source": [
    "import pandas as pd\n",
    "import numpy as np\n",
    "import requests\n",
    "import time\n",
    "from selenium import webdriver\n",
    "import re\n",
    "import requests\n",
    "from bs4 import BeautifulSoup"
   ]
  },
  {
   "cell_type": "code",
   "execution_count": null,
   "metadata": {},
   "outputs": [],
   "source": [
    "df = pd.read_csv('./XXX.csv')"
   ]
  },
  {
   "cell_type": "code",
   "execution_count": null,
   "metadata": {},
   "outputs": [],
   "source": [
    "# drop all nans, so they don't clutter the text\n",
    "df.replace(np.nan, '', regex=True, inplace = True)"
   ]
  },
  {
   "cell_type": "code",
   "execution_count": null,
   "metadata": {},
   "outputs": [],
   "source": [
    "#combining text fields\n",
    "df['get_text'] = (df['XXX'].astype(str) + \" \" + df['XXX'].astype(str) + \" \" + df['XXX'].astype(str))"
   ]
  },
  {
   "cell_type": "markdown",
   "metadata": {},
   "source": [
    "### Language Detection Insights\n",
    "The majority of companies provided language description in English. Less than 10% provided description on other language, primarily in Spanish and French."
   ]
  },
  {
   "cell_type": "code",
   "execution_count": null,
   "metadata": {},
   "outputs": [],
   "source": [
    "#figure out if any companies provided descriptions in languages other than English\n",
    "\n",
    "from langdetect import detect\n",
    "\n",
    "languages = []\n",
    "for i in df.index:\n",
    "    try: \n",
    "        languages.append(detect(df['get_text'][i]))\n",
    "    except:\n",
    "        languages.append(\"ERROR, No Text\")\n",
    "        pass\n",
    "\n",
    "df[\"text_language\"] = languages"
   ]
  },
  {
   "cell_type": "code",
   "execution_count": null,
   "metadata": {},
   "outputs": [],
   "source": [
    "#number of companies that provided description not in English\n",
    "len(df.text_language) - (sum(df.text_language=='en') + sum(df.text_language=='ERROR, No Text'))"
   ]
  },
  {
   "cell_type": "code",
   "execution_count": null,
   "metadata": {
    "scrolled": true
   },
   "outputs": [],
   "source": [
    "df.text_language.value_counts().head(10) #https://en.wikipedia.org/wiki/List_of_ISO_639-1_codes"
   ]
  },
  {
   "cell_type": "code",
   "execution_count": null,
   "metadata": {},
   "outputs": [],
   "source": [
    "df.to_csv(\"./df_with_languages_detected.csv\")"
   ]
  },
  {
   "cell_type": "markdown",
   "metadata": {},
   "source": [
    "### Next steps: translation\n",
    "I will be coming back to this soon. May not remember to update this notebok, since my working notebooks are in the closed github repo for proprietary info purposes. But I am currently locked out of google translate (and therefore textblob and all that) and trying to figure out if I can use yandex translate's API or AWS.\n",
    "\n",
    "I have no claims at all that I wrote the code below, this is something I've been looking at in one of the stack overflow threads."
   ]
  },
  {
   "cell_type": "code",
   "execution_count": null,
   "metadata": {},
   "outputs": [],
   "source": [
    "import argparse\n",
    "\n",
    "from google.cloud import translate\n",
    "import six\n",
    "\n",
    "def translate_text_with_model(target, text, model=translate.NMT):\n",
    "      translate_client = translate.Client()\n",
    "\n",
    "    if isinstance(text, six.binary_type):\n",
    "        text = text.decode('utf-8')\n"
   ]
  },
  {
   "cell_type": "code",
   "execution_count": null,
   "metadata": {},
   "outputs": [],
   "source": [
    "df.description[106]"
   ]
  },
  {
   "cell_type": "code",
   "execution_count": null,
   "metadata": {},
   "outputs": [],
   "source": [
    "translate_text_with_model(df.description[106])"
   ]
  }
 ],
 "metadata": {
  "kernelspec": {
   "display_name": "Python [conda env:dsi]",
   "language": "python",
   "name": "conda-env-dsi-py"
  },
  "language_info": {
   "codemirror_mode": {
    "name": "ipython",
    "version": 3
   },
   "file_extension": ".py",
   "mimetype": "text/x-python",
   "name": "python",
   "nbconvert_exporter": "python",
   "pygments_lexer": "ipython3",
   "version": "3.6.5"
  }
 },
 "nbformat": 4,
 "nbformat_minor": 2
}
